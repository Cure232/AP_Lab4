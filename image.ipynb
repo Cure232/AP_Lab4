{
 "cells": [
  {
   "cell_type": "markdown",
   "metadata": {},
   "source": [
    "Импортируем все необходимое"
   ]
  },
  {
   "cell_type": "code",
   "execution_count": null,
   "metadata": {},
   "outputs": [],
   "source": [
    "import cv2\n",
    "import random\n",
    "import pandas as pd\n",
    "import matplotlib.pyplot as plt\n",
    "\n",
    "from typing import List"
   ]
  },
  {
   "cell_type": "markdown",
   "metadata": {},
   "source": [
    "Задание 1 и 2. Создадим DataFrame с двумя колонками. Названия колонок \"abs_path\" и \"classname\". "
   ]
  },
  {
   "cell_type": "code",
   "execution_count": null,
   "metadata": {},
   "outputs": [],
   "source": [
    "df = pd.read_csv('annotation.csv', delimiter=';', usecols = (1, 3), names = ('abs_path', 'classname'))\n",
    "print(df)"
   ]
  },
  {
   "cell_type": "markdown",
   "metadata": {},
   "source": [
    "Задание 3. Добавление столбца с метками \"0\" для класса \"bay_horse\" и \"1\" для класса \"zebra\". "
   ]
  },
  {
   "cell_type": "code",
   "execution_count": null,
   "metadata": {},
   "outputs": [],
   "source": [
    "df[\"class_mark\"] = 0\n",
    "df.loc[df[\"classname\"] == \"zebra\", \"class_mark\"] = 1\n",
    "print(df)"
   ]
  },
  {
   "cell_type": "markdown",
   "metadata": {},
   "source": [
    "Задание 4. Добавление трех столбцов \"height\", \"width\" и \"depth\". "
   ]
  },
  {
   "cell_type": "code",
   "execution_count": null,
   "metadata": {},
   "outputs": [],
   "source": [
    "height_i: List[int] = []\n",
    "\n",
    "for i in range(df[\"abs_path\"].size):\n",
    "    img = cv2.imread(df[\"abs_path\"].iloc[i])\n",
    "    if img is not None:\n",
    "      height_i.append(img.shape[0])\n",
    "    else:\n",
    "      print(df[\"abs_path\"].iloc[i])\n",
    "\n",
    "df[\"height\"] = height_i\n",
    "print(df)"
   ]
  },
  {
   "cell_type": "code",
   "execution_count": null,
   "metadata": {},
   "outputs": [],
   "source": [
    "width_i: List[int] = []\n",
    "\n",
    "for i in range(df[\"abs_path\"].size):\n",
    "    img = cv2.imread(df[\"abs_path\"].iloc[i])\n",
    "    if img is not None:\n",
    "      width_i.append(img.shape[1])\n",
    "    else:\n",
    "      print(df[\"abs_path\"].iloc[i])\n",
    "\n",
    "df[\"width\"] = width_i\n",
    "print(df)"
   ]
  },
  {
   "cell_type": "code",
   "execution_count": null,
   "metadata": {},
   "outputs": [],
   "source": [
    "depth_i: List[int] = []\n",
    "\n",
    "for i in range(df[\"abs_path\"].size):\n",
    "    img = cv2.imread(df[\"abs_path\"].iloc[i])\n",
    "    if img is not None:\n",
    "      depth_i.append(img.shape[2])\n",
    "    else:\n",
    "      print(df[\"abs_path\"].iloc[i])\n",
    "\n",
    "df[\"depth\"] = depth_i\n",
    "print(df)"
   ]
  },
  {
   "cell_type": "markdown",
   "metadata": {},
   "source": [
    "Задание 5. Статистика по колонках \"class_mark\", \"height\", \"width\" и \"depth\". "
   ]
  },
  {
   "cell_type": "code",
   "execution_count": null,
   "metadata": {},
   "outputs": [],
   "source": [
    "mark_stats = df['class_mark'].describe() \n",
    "print(mark_stats)"
   ]
  },
  {
   "cell_type": "code",
   "execution_count": null,
   "metadata": {},
   "outputs": [],
   "source": [
    "height_stats = df['height'].describe() \n",
    "print(height_stats)"
   ]
  },
  {
   "cell_type": "code",
   "execution_count": null,
   "metadata": {},
   "outputs": [],
   "source": [
    "width_stats = df['width'].describe() \n",
    "print(width_stats)"
   ]
  },
  {
   "cell_type": "code",
   "execution_count": null,
   "metadata": {},
   "outputs": [],
   "source": [
    "depth_stats = df['depth'].describe() \n",
    "print(depth_stats)"
   ]
  }
 ],
 "metadata": {
  "kernelspec": {
   "display_name": "base",
   "language": "python",
   "name": "python3"
  },
  "language_info": {
   "codemirror_mode": {
    "name": "ipython",
    "version": 3
   },
   "file_extension": ".py",
   "mimetype": "text/x-python",
   "name": "python",
   "nbconvert_exporter": "python",
   "pygments_lexer": "ipython3",
   "version": "3.9.7"
  }
 },
 "nbformat": 4,
 "nbformat_minor": 2
}
