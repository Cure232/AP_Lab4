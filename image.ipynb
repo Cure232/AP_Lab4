{
 "cells": [
  {
   "cell_type": "markdown",
   "metadata": {},
   "source": [
    "Импортируем все необходимое"
   ]
  },
  {
   "cell_type": "code",
   "execution_count": 1,
   "metadata": {},
   "outputs": [],
   "source": [
    "import cv2\n",
    "import random\n",
    "import pandas as pd\n",
    "import matplotlib.pyplot as plt\n",
    "\n",
    "from typing import List"
   ]
  },
  {
   "cell_type": "markdown",
   "metadata": {},
   "source": [
    "Задание 1 и 2. Создадим DataFrame с двумя колонками. Названия колонок \"abs_path\" и \"classname\". "
   ]
  },
  {
   "cell_type": "code",
   "execution_count": 2,
   "metadata": {},
   "outputs": [
    {
     "name": "stdout",
     "output_type": "stream",
     "text": [
      "                                               abs_path  classname\n",
      "0     D:\\Programming\\AP_Lab4\\dataset\\bay_horse\\0000.jpg  bay_horse\n",
      "1     D:\\Programming\\AP_Lab4\\dataset\\bay_horse\\0001.jpg  bay_horse\n",
      "2     D:\\Programming\\AP_Lab4\\dataset\\bay_horse\\0002.jpg  bay_horse\n",
      "3     D:\\Programming\\AP_Lab4\\dataset\\bay_horse\\0003.jpg  bay_horse\n",
      "4     D:\\Programming\\AP_Lab4\\dataset\\bay_horse\\0004.jpg  bay_horse\n",
      "...                                                 ...        ...\n",
      "2449      D:\\Programming\\AP_Lab4\\dataset\\zebra\\1211.jpg      zebra\n",
      "2450      D:\\Programming\\AP_Lab4\\dataset\\zebra\\1212.jpg      zebra\n",
      "2451      D:\\Programming\\AP_Lab4\\dataset\\zebra\\1213.jpg      zebra\n",
      "2452      D:\\Programming\\AP_Lab4\\dataset\\zebra\\1214.jpg      zebra\n",
      "2453      D:\\Programming\\AP_Lab4\\dataset\\zebra\\1215.jpg      zebra\n",
      "\n",
      "[2454 rows x 2 columns]\n"
     ]
    }
   ],
   "source": [
    "df = pd.read_csv('annotation.csv', delimiter=';', usecols = (1, 3), names = ('abs_path', 'classname'))\n",
    "print(df)"
   ]
  },
  {
   "cell_type": "markdown",
   "metadata": {},
   "source": [
    "Задание 3. Добавление столбца с метками \"0\" для класса \"bay_horse\" и \"1\" для класса \"zebra\". "
   ]
  },
  {
   "cell_type": "code",
   "execution_count": 3,
   "metadata": {},
   "outputs": [
    {
     "name": "stdout",
     "output_type": "stream",
     "text": [
      "                                               abs_path  classname  class_mark\n",
      "0     D:\\Programming\\AP_Lab4\\dataset\\bay_horse\\0000.jpg  bay_horse           0\n",
      "1     D:\\Programming\\AP_Lab4\\dataset\\bay_horse\\0001.jpg  bay_horse           0\n",
      "2     D:\\Programming\\AP_Lab4\\dataset\\bay_horse\\0002.jpg  bay_horse           0\n",
      "3     D:\\Programming\\AP_Lab4\\dataset\\bay_horse\\0003.jpg  bay_horse           0\n",
      "4     D:\\Programming\\AP_Lab4\\dataset\\bay_horse\\0004.jpg  bay_horse           0\n",
      "...                                                 ...        ...         ...\n",
      "2449      D:\\Programming\\AP_Lab4\\dataset\\zebra\\1211.jpg      zebra           1\n",
      "2450      D:\\Programming\\AP_Lab4\\dataset\\zebra\\1212.jpg      zebra           1\n",
      "2451      D:\\Programming\\AP_Lab4\\dataset\\zebra\\1213.jpg      zebra           1\n",
      "2452      D:\\Programming\\AP_Lab4\\dataset\\zebra\\1214.jpg      zebra           1\n",
      "2453      D:\\Programming\\AP_Lab4\\dataset\\zebra\\1215.jpg      zebra           1\n",
      "\n",
      "[2454 rows x 3 columns]\n"
     ]
    }
   ],
   "source": [
    "df[\"class_mark\"] = 0\n",
    "df.loc[df[\"classname\"] == \"zebra\", \"class_mark\"] = 1\n",
    "print(df)"
   ]
  },
  {
   "cell_type": "markdown",
   "metadata": {},
   "source": [
    "Задание 4. Добавление трех столбцов \"height\", \"width\" и \"depth\". "
   ]
  },
  {
   "cell_type": "code",
   "execution_count": 4,
   "metadata": {},
   "outputs": [
    {
     "name": "stdout",
     "output_type": "stream",
     "text": [
      "                                               abs_path  classname  \\\n",
      "0     D:\\Programming\\AP_Lab4\\dataset\\bay_horse\\0000.jpg  bay_horse   \n",
      "1     D:\\Programming\\AP_Lab4\\dataset\\bay_horse\\0001.jpg  bay_horse   \n",
      "2     D:\\Programming\\AP_Lab4\\dataset\\bay_horse\\0002.jpg  bay_horse   \n",
      "3     D:\\Programming\\AP_Lab4\\dataset\\bay_horse\\0003.jpg  bay_horse   \n",
      "4     D:\\Programming\\AP_Lab4\\dataset\\bay_horse\\0004.jpg  bay_horse   \n",
      "...                                                 ...        ...   \n",
      "2449      D:\\Programming\\AP_Lab4\\dataset\\zebra\\1211.jpg      zebra   \n",
      "2450      D:\\Programming\\AP_Lab4\\dataset\\zebra\\1212.jpg      zebra   \n",
      "2451      D:\\Programming\\AP_Lab4\\dataset\\zebra\\1213.jpg      zebra   \n",
      "2452      D:\\Programming\\AP_Lab4\\dataset\\zebra\\1214.jpg      zebra   \n",
      "2453      D:\\Programming\\AP_Lab4\\dataset\\zebra\\1215.jpg      zebra   \n",
      "\n",
      "      class_mark  height  \n",
      "0              0     320  \n",
      "1              0     320  \n",
      "2              0     320  \n",
      "3              0     320  \n",
      "4              0     320  \n",
      "...          ...     ...  \n",
      "2449           1     320  \n",
      "2450           1     320  \n",
      "2451           1     320  \n",
      "2452           1     320  \n",
      "2453           1     270  \n",
      "\n",
      "[2454 rows x 4 columns]\n"
     ]
    }
   ],
   "source": [
    "height_i: List[int] = []\n",
    "\n",
    "for i in range(df[\"abs_path\"].size):\n",
    "    img = cv2.imread(df[\"abs_path\"].iloc[i])\n",
    "    if img is not None:\n",
    "      height_i.append(img.shape[0])\n",
    "    else:\n",
    "      print(df[\"abs_path\"].iloc[i])\n",
    "\n",
    "df[\"height\"] = height_i\n",
    "print(df)"
   ]
  },
  {
   "cell_type": "code",
   "execution_count": 5,
   "metadata": {},
   "outputs": [
    {
     "name": "stdout",
     "output_type": "stream",
     "text": [
      "                                               abs_path  classname  \\\n",
      "0     D:\\Programming\\AP_Lab4\\dataset\\bay_horse\\0000.jpg  bay_horse   \n",
      "1     D:\\Programming\\AP_Lab4\\dataset\\bay_horse\\0001.jpg  bay_horse   \n",
      "2     D:\\Programming\\AP_Lab4\\dataset\\bay_horse\\0002.jpg  bay_horse   \n",
      "3     D:\\Programming\\AP_Lab4\\dataset\\bay_horse\\0003.jpg  bay_horse   \n",
      "4     D:\\Programming\\AP_Lab4\\dataset\\bay_horse\\0004.jpg  bay_horse   \n",
      "...                                                 ...        ...   \n",
      "2449      D:\\Programming\\AP_Lab4\\dataset\\zebra\\1211.jpg      zebra   \n",
      "2450      D:\\Programming\\AP_Lab4\\dataset\\zebra\\1212.jpg      zebra   \n",
      "2451      D:\\Programming\\AP_Lab4\\dataset\\zebra\\1213.jpg      zebra   \n",
      "2452      D:\\Programming\\AP_Lab4\\dataset\\zebra\\1214.jpg      zebra   \n",
      "2453      D:\\Programming\\AP_Lab4\\dataset\\zebra\\1215.jpg      zebra   \n",
      "\n",
      "      class_mark  height  width  \n",
      "0              0     320    448  \n",
      "1              0     320    448  \n",
      "2              0     320    400  \n",
      "3              0     320    475  \n",
      "4              0     320    399  \n",
      "...          ...     ...    ...  \n",
      "2449           1     320    320  \n",
      "2450           1     320    297  \n",
      "2451           1     320    219  \n",
      "2452           1     320    480  \n",
      "2453           1     270    480  \n",
      "\n",
      "[2454 rows x 5 columns]\n"
     ]
    }
   ],
   "source": [
    "width_i: List[int] = []\n",
    "\n",
    "for i in range(df[\"abs_path\"].size):\n",
    "    img = cv2.imread(df[\"abs_path\"].iloc[i])\n",
    "    if img is not None:\n",
    "      width_i.append(img.shape[1])\n",
    "    else:\n",
    "      print(df[\"abs_path\"].iloc[i])\n",
    "\n",
    "df[\"width\"] = width_i\n",
    "print(df)"
   ]
  },
  {
   "cell_type": "code",
   "execution_count": 6,
   "metadata": {},
   "outputs": [
    {
     "name": "stdout",
     "output_type": "stream",
     "text": [
      "                                               abs_path  classname  \\\n",
      "0     D:\\Programming\\AP_Lab4\\dataset\\bay_horse\\0000.jpg  bay_horse   \n",
      "1     D:\\Programming\\AP_Lab4\\dataset\\bay_horse\\0001.jpg  bay_horse   \n",
      "2     D:\\Programming\\AP_Lab4\\dataset\\bay_horse\\0002.jpg  bay_horse   \n",
      "3     D:\\Programming\\AP_Lab4\\dataset\\bay_horse\\0003.jpg  bay_horse   \n",
      "4     D:\\Programming\\AP_Lab4\\dataset\\bay_horse\\0004.jpg  bay_horse   \n",
      "...                                                 ...        ...   \n",
      "2449      D:\\Programming\\AP_Lab4\\dataset\\zebra\\1211.jpg      zebra   \n",
      "2450      D:\\Programming\\AP_Lab4\\dataset\\zebra\\1212.jpg      zebra   \n",
      "2451      D:\\Programming\\AP_Lab4\\dataset\\zebra\\1213.jpg      zebra   \n",
      "2452      D:\\Programming\\AP_Lab4\\dataset\\zebra\\1214.jpg      zebra   \n",
      "2453      D:\\Programming\\AP_Lab4\\dataset\\zebra\\1215.jpg      zebra   \n",
      "\n",
      "      class_mark  height  width  depth  \n",
      "0              0     320    448      3  \n",
      "1              0     320    448      3  \n",
      "2              0     320    400      3  \n",
      "3              0     320    475      3  \n",
      "4              0     320    399      3  \n",
      "...          ...     ...    ...    ...  \n",
      "2449           1     320    320      3  \n",
      "2450           1     320    297      3  \n",
      "2451           1     320    219      3  \n",
      "2452           1     320    480      3  \n",
      "2453           1     270    480      3  \n",
      "\n",
      "[2454 rows x 6 columns]\n"
     ]
    }
   ],
   "source": [
    "depth_i: List[int] = []\n",
    "\n",
    "for i in range(df[\"abs_path\"].size):\n",
    "    img = cv2.imread(df[\"abs_path\"].iloc[i])\n",
    "    if img is not None:\n",
    "      depth_i.append(img.shape[2])\n",
    "    else:\n",
    "      print(df[\"abs_path\"].iloc[i])\n",
    "\n",
    "df[\"depth\"] = depth_i\n",
    "print(df)"
   ]
  },
  {
   "cell_type": "markdown",
   "metadata": {},
   "source": [
    "Задание 5. Статистика по колонках \"class_mark\", \"height\", \"width\" и \"depth\". "
   ]
  },
  {
   "cell_type": "code",
   "execution_count": 7,
   "metadata": {},
   "outputs": [
    {
     "name": "stdout",
     "output_type": "stream",
     "text": [
      "count    2454.000000\n",
      "mean        0.495518\n",
      "std         0.500082\n",
      "min         0.000000\n",
      "25%         0.000000\n",
      "50%         0.000000\n",
      "75%         1.000000\n",
      "max         1.000000\n",
      "Name: class_mark, dtype: float64\n"
     ]
    }
   ],
   "source": [
    "mark_stats = df['class_mark'].describe() \n",
    "print(mark_stats)"
   ]
  },
  {
   "cell_type": "code",
   "execution_count": 8,
   "metadata": {},
   "outputs": [
    {
     "name": "stdout",
     "output_type": "stream",
     "text": [
      "count    2454.000000\n",
      "mean      314.344336\n",
      "std        17.712061\n",
      "min        95.000000\n",
      "25%       320.000000\n",
      "50%       320.000000\n",
      "75%       320.000000\n",
      "max       488.000000\n",
      "Name: height, dtype: float64\n"
     ]
    }
   ],
   "source": [
    "height_stats = df['height'].describe() \n",
    "print(height_stats)"
   ]
  },
  {
   "cell_type": "code",
   "execution_count": 9,
   "metadata": {},
   "outputs": [
    {
     "name": "stdout",
     "output_type": "stream",
     "text": [
      "count    2454.000000\n",
      "mean      415.402200\n",
      "std        83.093482\n",
      "min       160.000000\n",
      "25%       388.000000\n",
      "50%       448.000000\n",
      "75%       480.000000\n",
      "max       640.000000\n",
      "Name: width, dtype: float64\n"
     ]
    }
   ],
   "source": [
    "width_stats = df['width'].describe() \n",
    "print(width_stats)"
   ]
  },
  {
   "cell_type": "code",
   "execution_count": 10,
   "metadata": {},
   "outputs": [
    {
     "name": "stdout",
     "output_type": "stream",
     "text": [
      "count    2454.0\n",
      "mean        3.0\n",
      "std         0.0\n",
      "min         3.0\n",
      "25%         3.0\n",
      "50%         3.0\n",
      "75%         3.0\n",
      "max         3.0\n",
      "Name: depth, dtype: float64\n"
     ]
    }
   ],
   "source": [
    "depth_stats = df['depth'].describe() \n",
    "print(depth_stats)"
   ]
  },
  {
   "cell_type": "markdown",
   "metadata": {},
   "source": [
    "Задание 6."
   ]
  },
  {
   "cell_type": "code",
   "execution_count": 11,
   "metadata": {},
   "outputs": [
    {
     "name": "stdout",
     "output_type": "stream",
     "text": [
      "                                               abs_path  classname  \\\n",
      "0     D:\\Programming\\AP_Lab4\\dataset\\bay_horse\\0000.jpg  bay_horse   \n",
      "1     D:\\Programming\\AP_Lab4\\dataset\\bay_horse\\0001.jpg  bay_horse   \n",
      "2     D:\\Programming\\AP_Lab4\\dataset\\bay_horse\\0002.jpg  bay_horse   \n",
      "3     D:\\Programming\\AP_Lab4\\dataset\\bay_horse\\0003.jpg  bay_horse   \n",
      "4     D:\\Programming\\AP_Lab4\\dataset\\bay_horse\\0004.jpg  bay_horse   \n",
      "...                                                 ...        ...   \n",
      "1233  D:\\Programming\\AP_Lab4\\dataset\\bay_horse\\1233.jpg  bay_horse   \n",
      "1234  D:\\Programming\\AP_Lab4\\dataset\\bay_horse\\1234.jpg  bay_horse   \n",
      "1235  D:\\Programming\\AP_Lab4\\dataset\\bay_horse\\1235.jpg  bay_horse   \n",
      "1236  D:\\Programming\\AP_Lab4\\dataset\\bay_horse\\1236.jpg  bay_horse   \n",
      "1237  D:\\Programming\\AP_Lab4\\dataset\\bay_horse\\1237.jpg  bay_horse   \n",
      "\n",
      "      class_mark  height  width  depth  \n",
      "0              0     320    448      3  \n",
      "1              0     320    448      3  \n",
      "2              0     320    400      3  \n",
      "3              0     320    475      3  \n",
      "4              0     320    399      3  \n",
      "...          ...     ...    ...    ...  \n",
      "1233           0     320    427      3  \n",
      "1234           0     320    452      3  \n",
      "1235           0     320    393      3  \n",
      "1236           0     320    381      3  \n",
      "1237           0     320    207      3  \n",
      "\n",
      "[1238 rows x 6 columns]\n"
     ]
    }
   ],
   "source": [
    "def filter_dataframe(df: pd.DataFrame, label: int) -> pd.DataFrame:\n",
    "    \"\"\"\n",
    "    Функция на вход принимает DataFrame и метку класса, а возвращает отфильтрованный по метке DataFrame\n",
    "    \"\"\"\n",
    "    new= pd.DataFrame = df[df.class_mark == label]\n",
    "    return new\n",
    "\n",
    "print(filter_dataframe(df, 0))"
   ]
  },
  {
   "cell_type": "markdown",
   "metadata": {},
   "source": [
    "Задание 7."
   ]
  },
  {
   "cell_type": "code",
   "execution_count": 12,
   "metadata": {},
   "outputs": [
    {
     "name": "stdout",
     "output_type": "stream",
     "text": [
      "                                           abs_path classname  class_mark  \\\n",
      "1238  D:\\Programming\\AP_Lab4\\dataset\\zebra\\0000.jpg     zebra           1   \n",
      "1239  D:\\Programming\\AP_Lab4\\dataset\\zebra\\0001.jpg     zebra           1   \n",
      "1240  D:\\Programming\\AP_Lab4\\dataset\\zebra\\0002.jpg     zebra           1   \n",
      "1241  D:\\Programming\\AP_Lab4\\dataset\\zebra\\0003.jpg     zebra           1   \n",
      "1242  D:\\Programming\\AP_Lab4\\dataset\\zebra\\0004.jpg     zebra           1   \n",
      "...                                             ...       ...         ...   \n",
      "2449  D:\\Programming\\AP_Lab4\\dataset\\zebra\\1211.jpg     zebra           1   \n",
      "2450  D:\\Programming\\AP_Lab4\\dataset\\zebra\\1212.jpg     zebra           1   \n",
      "2451  D:\\Programming\\AP_Lab4\\dataset\\zebra\\1213.jpg     zebra           1   \n",
      "2452  D:\\Programming\\AP_Lab4\\dataset\\zebra\\1214.jpg     zebra           1   \n",
      "2453  D:\\Programming\\AP_Lab4\\dataset\\zebra\\1215.jpg     zebra           1   \n",
      "\n",
      "      height  width  depth  \n",
      "1238     320    427      3  \n",
      "1239     320    480      3  \n",
      "1240     320    480      3  \n",
      "1241     320    480      3  \n",
      "1242     316    480      3  \n",
      "...      ...    ...    ...  \n",
      "2449     320    320      3  \n",
      "2450     320    297      3  \n",
      "2451     320    219      3  \n",
      "2452     320    480      3  \n",
      "2453     270    480      3  \n",
      "\n",
      "[1216 rows x 6 columns]\n"
     ]
    }
   ],
   "source": [
    "def specified_filter(label: int, max_width: int, max_height: int, df: pd.DataFrame) -> pd.DataFrame:\n",
    "    \"\"\"\n",
    "    Функция принимает метку класса, max_height и max_width, а возвращает отфильтрованный по заданным параметрам DataFrame\n",
    "    \"\"\"\n",
    "    new = df[(df.class_mark == label) & (df.width <= max_width) & (df.height <= max_height)]\n",
    "    return new\n",
    "\n",
    "print(specified_filter(1, 1000, 1000, df))"
   ]
  },
  {
   "cell_type": "markdown",
   "metadata": {},
   "source": [
    "Задание 8. Группировка DataFrame по метке класса с вычислением максимального, минимального и среднего значения по количеству пикселей."
   ]
  },
  {
   "cell_type": "code",
   "execution_count": 14,
   "metadata": {},
   "outputs": [
    {
     "name": "stdout",
     "output_type": "stream",
     "text": [
      "              count_pixel               \n",
      "                     mean    min     max\n",
      "class_mark                              \n",
      "0           129049.321486  45600  272640\n",
      "1           131533.421053  51200  153600\n"
     ]
    }
   ],
   "source": [
    "df[\"count_pixel\"] = df.height * df.width\n",
    "result= pd.DataFrame = df.groupby(\"class_mark\").agg({\"count_pixel\": ['mean', 'min', 'max']}) \n",
    "print(result)"
   ]
  }
 ],
 "metadata": {
  "kernelspec": {
   "display_name": "base",
   "language": "python",
   "name": "python3"
  },
  "language_info": {
   "codemirror_mode": {
    "name": "ipython",
    "version": 3
   },
   "file_extension": ".py",
   "mimetype": "text/x-python",
   "name": "python",
   "nbconvert_exporter": "python",
   "pygments_lexer": "ipython3",
   "version": "3.9.7"
  }
 },
 "nbformat": 4,
 "nbformat_minor": 2
}
